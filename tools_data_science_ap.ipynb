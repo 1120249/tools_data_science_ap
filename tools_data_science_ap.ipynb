{
  "nbformat": 4,
  "nbformat_minor": 0,
  "metadata": {
    "colab": {
      "provenance": []
    },
    "kernelspec": {
      "name": "python3",
      "display_name": "Python 3"
    },
    "language_info": {
      "name": "python"
    }
  },
  "cells": [
    {
      "cell_type": "markdown",
      "source": [
        "My Jupyter Notebook on IBM Watson Studio"
      ],
      "metadata": {
        "id": "9yuVy1EpHLyQ"
      }
    },
    {
      "cell_type": "markdown",
      "source": [
        "ANGELO PINTO\n",
        "<br>Software developer"
      ],
      "metadata": {
        "id": "x-zs8jxSHWgv"
      }
    },
    {
      "cell_type": "markdown",
      "source": [
        "I am interested in data science because I really like developing machine learning models. I would like to work analysing data and developing models for the biology or medicine areas."
      ],
      "metadata": {
        "id": "HUxhmqVIHf9k"
      }
    },
    {
      "cell_type": "markdown",
      "source": [
        "### My code in cell 5 ads the number 1 to the number 2 and outputs the result, if the cell is run it will output number 3."
      ],
      "metadata": {
        "id": "QwUwb_d9H644"
      }
    },
    {
      "cell_type": "code",
      "source": [
        "1 + 2"
      ],
      "metadata": {
        "id": "fvv4fhHYIGj2"
      },
      "execution_count": null,
      "outputs": []
    },
    {
      "cell_type": "markdown",
      "source": [
        "My favorite search engine is [Duck Duck Go](https://duckduckgo.com).  \n",
        "IBM website is https://www.ibm.com\n",
        "\n",
        "* list 1\n",
        "* list 2\n",
        "* list 3\n",
        "\n",
        "1. First item\n",
        "2. Second item\n",
        "3. Third item\n",
        "\n",
        "\n"
      ],
      "metadata": {
        "id": "NueZmZXSe7gj"
      }
    }
  ]
}